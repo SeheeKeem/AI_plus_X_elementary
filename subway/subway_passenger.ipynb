{
 "cells": [
  {
   "attachments": {},
   "cell_type": "markdown",
   "metadata": {},
   "source": [
    "# \"지하철 이용승객 분석\" EDA 프로젝트\n",
    "## 실습 데이터 \n",
    "- 지하철 승하자 이용객 데이터 : 2019.01.01 ~ 2019.06.30 \n",
    "  - 서울열린데이터광장 :  http://data.seoul.go.kr/dataList/OA-12914/A/1/datasetView.do\n",
    "- 지하철 노선 정보 데이터"
   ]
  },
  {
   "cell_type": "code",
   "execution_count": null,
   "metadata": {},
   "outputs": [],
   "source": [
    "# 필요한 라이브러리를 불러오기\n",
    "\n",
    "import pandas as pd\n",
    "import numpy as np"
   ]
  },
  {
   "cell_type": "code",
   "execution_count": null,
   "metadata": {},
   "outputs": [],
   "source": [
    "# 작업할 여러개의 파일 중 하나의 파일 불러오기\n",
    "\n",
    "file = r'.\\data\\rawfiles\\CARD_SUBWAY_MONTH_201901.csv' #r은 raw 그대로 특수문자도 그대로 다 읽어오기\n",
    "\n",
    "pd.read_csv(file)"
   ]
  },
  {
   "cell_type": "code",
   "execution_count": null,
   "metadata": {},
   "outputs": [],
   "source": [
    "raw = pd.read_csv(file)\n",
    "raw.head()"
   ]
  },
  {
   "cell_type": "code",
   "execution_count": null,
   "metadata": {},
   "outputs": [],
   "source": [
    "# info() 이용해 데이터 구조를 살펴보기\n",
    "\n",
    "raw.info()"
   ]
  },
  {
   "cell_type": "code",
   "execution_count": null,
   "metadata": {},
   "outputs": [],
   "source": [
    "# 이번에 여러 파일을 불러오기\n",
    "# 2개 파일 불러와서 합치기\n",
    "\n",
    "raw = pd.DataFrame()\n",
    "raw.head()\n",
    "\n",
    "file1 = r'.\\data\\rawfiles\\CARD_SUBWAY_MONTH_201901.csv'\n",
    "file2 = r'.\\data\\rawfiles\\CARD_SUBWAY_MONTH_201902.csv'\n",
    "\n",
    "temp1 = pd.read_csv(file1)\n",
    "temp2 = pd.read_csv(file2)\n",
    "\n",
    "# pandas concat 합치때, 인덱스 번호 그래로 간다. 옵션 ignore_index=True 사용하면 인덱스 새로 생성\n",
    "raw = pd.concat([temp1, temp2], axis=0) # 0 : 행방향 , 1 : 열방향, default : 0\n",
    "\n",
    "raw"
   ]
  },
  {
   "cell_type": "code",
   "execution_count": null,
   "metadata": {},
   "outputs": [],
   "source": [
    "# 폴더/파일을 관리하는 os 라이브러리를 불러오기\n",
    "\n",
    "import os"
   ]
  },
  {
   "cell_type": "code",
   "execution_count": null,
   "metadata": {},
   "outputs": [],
   "source": [
    "# os.listdir()을 이용해 폴더에 있는 파일 리스트를 살펴보기\n",
    "\n",
    "os.listdir()\n"
   ]
  },
  {
   "cell_type": "code",
   "execution_count": null,
   "metadata": {},
   "outputs": [],
   "source": [
    "dirpath = './data/rawfiles'\n",
    "os.listdir(dirpath)"
   ]
  },
  {
   "cell_type": "code",
   "execution_count": null,
   "metadata": {},
   "outputs": [],
   "source": [
    "dirpath = './data/rawfiles/'\n",
    "files = os.listdir(dirpath)\n",
    "files = files[0:6]\n",
    "files"
   ]
  },
  {
   "cell_type": "code",
   "execution_count": null,
   "metadata": {},
   "outputs": [],
   "source": [
    "# 여러개 파일 병합\n",
    "\n",
    "# 빈 데이터프레임을 준비\n",
    "raw = pd.DataFrame()\n",
    "\n",
    "# 반복문 -> csv 파일 읽기 -> 데이터프레임에 추가하기\n",
    "for file in files:\n",
    "    #print(dirpath + file)\n",
    "    temp = pd.read_csv(dirpath + file)\n",
    "    raw = pd.concat([raw, temp], axis=0)\n",
    "\n",
    "raw.tail()"
   ]
  },
  {
   "cell_type": "code",
   "execution_count": null,
   "metadata": {},
   "outputs": [],
   "source": [
    "\n",
    "raw.info()"
   ]
  },
  {
   "cell_type": "code",
   "execution_count": null,
   "metadata": {},
   "outputs": [],
   "source": [
    "raw = raw.reset_index(drop=True)"
   ]
  },
  {
   "cell_type": "code",
   "execution_count": null,
   "metadata": {},
   "outputs": [],
   "source": [
    "raw.head(7)"
   ]
  },
  {
   "cell_type": "code",
   "execution_count": null,
   "metadata": {},
   "outputs": [],
   "source": [
    "# 사용일자 컬럼 타입 확인 : int64\n",
    "\n",
    "raw.info()"
   ]
  },
  {
   "cell_type": "code",
   "execution_count": null,
   "metadata": {},
   "outputs": [],
   "source": [
    "# **** '사용일자' 타입 int64 --> DateTime 타입으로 변경 : pandas.to_datetime 사용 ****\n",
    "\n",
    "raw['사용일자'] = pd.to_datetime(raw['사용일자'], format='%Y%m%d')\n",
    "raw.info()"
   ]
  },
  {
   "cell_type": "code",
   "execution_count": null,
   "metadata": {},
   "outputs": [],
   "source": [
    "# 사용일자에 대해서 요일로 변환\n",
    "raw['사용요일'] = raw['사용일자'].dt.dayofweek\n",
    "raw.head()"
   ]
  },
  {
   "cell_type": "code",
   "execution_count": null,
   "metadata": {},
   "outputs": [],
   "source": [
    "# 요일 숫자 -> 한글로 변환\n",
    "conv = {\n",
    "    0 : '월',\n",
    "    1 : '화',\n",
    "    2 : '수',\n",
    "    3 : '목',\n",
    "    4 : '금',\n",
    "    5 : '토',\n",
    "    6 : '일'\n",
    "}\n",
    "\n",
    "raw['사용요일'] = raw['사용요일'].map(conv)"
   ]
  },
  {
   "cell_type": "code",
   "execution_count": null,
   "metadata": {},
   "outputs": [],
   "source": [
    "# 승하차총승객수 칼럼 추가하기\n",
    "raw['승하차총승객수'] = raw['승차총승객수'] + raw['하차총승객수']\n",
    "raw\n"
   ]
  },
  {
   "cell_type": "code",
   "execution_count": null,
   "metadata": {},
   "outputs": [],
   "source": [
    "# 연월, 월일 칼럼 추가하기\n",
    "raw['사용연월'] = raw['사용일자'].dt.strftime('%Y-%m')\n",
    "raw['사용일'] = raw['사용일자'].dt.strftime('%d')\n",
    "raw"
   ]
  },
  {
   "cell_type": "code",
   "execution_count": null,
   "metadata": {},
   "outputs": [],
   "source": [
    "raw['사용주'] = raw['사용일자'].dt.weekofyear\n",
    "raw"
   ]
  },
  {
   "attachments": {},
   "cell_type": "markdown",
   "metadata": {},
   "source": [
    "## Q.요일 중에서 목요일에 지하철 승객수가 많다?"
   ]
  },
  {
   "cell_type": "code",
   "execution_count": null,
   "metadata": {},
   "outputs": [],
   "source": [
    "# 매주 월요일 data 추출\n",
    "Mon_Pnumber = raw[['사용요일','사용주','승하차총승객수']]\n",
    "Mon_Pnumber = Mon_Pnumber[Mon_Pnumber['사용요일'] == '월']\n",
    "Mon_Pnumber = Mon_Pnumber.groupby(['사용요일','사용주'])['승하차총승객수'].sum()\n",
    "Mon_Pnumber = pd.DataFrame(Mon_Pnumber, columns=['승하차총승객수'])\n",
    "\n",
    "Mon_Pnumber"
   ]
  },
  {
   "cell_type": "code",
   "execution_count": null,
   "metadata": {},
   "outputs": [],
   "source": [
    "# 매주 화요일 data 추출\n",
    "Tue_Pnumber = raw[['사용요일','사용주','승하차총승객수']]\n",
    "Tue_Pnumber = Tue_Pnumber[Tue_Pnumber['사용요일'] == '화']\n",
    "Tue_Pnumber = Tue_Pnumber.groupby(['사용요일','사용주'])['승하차총승객수'].sum()\n",
    "Tue_Pnumber = pd.DataFrame(Tue_Pnumber, columns=['승하차총승객수'])\n",
    "\n",
    "\n",
    "Tue_Pnumber"
   ]
  },
  {
   "cell_type": "code",
   "execution_count": null,
   "metadata": {},
   "outputs": [],
   "source": [
    "# 매주 수요일 data 추출\n",
    "Wed_Pnumber = raw[['사용요일','사용주','승하차총승객수']]\n",
    "Wed_Pnumber = Wed_Pnumber[Wed_Pnumber['사용요일'] == '수']\n",
    "Wed_Pnumber = Wed_Pnumber.groupby(['사용요일','사용주'])['승하차총승객수'].sum()\n",
    "Wed_Pnumber = pd.DataFrame(Wed_Pnumber, columns=['승하차총승객수'])\n",
    "\n",
    "Wed_Pnumber"
   ]
  },
  {
   "cell_type": "code",
   "execution_count": null,
   "metadata": {},
   "outputs": [],
   "source": [
    "# 매주 목요일 data 추출\n",
    "Thur_Pnumber = raw[['사용요일','사용주','승하차총승객수']]\n",
    "Thur_Pnumber = Thur_Pnumber[Thur_Pnumber['사용요일'] == '목']\n",
    "Thur_Pnumber = Thur_Pnumber.groupby(['사용요일','사용주'])['승하차총승객수'].sum()\n",
    "Thur_Pnumber = pd.DataFrame(Thur_Pnumber, columns=['승하차총승객수'])\n",
    "\n",
    "Thur_Pnumber"
   ]
  },
  {
   "cell_type": "code",
   "execution_count": null,
   "metadata": {},
   "outputs": [],
   "source": [
    "# 매주 금요일 data 추출\n",
    "Fri_Pnumber = raw[['사용요일','사용주','승하차총승객수']]\n",
    "Fri_Pnumber = Fri_Pnumber[Fri_Pnumber['사용요일'] == '금']\n",
    "Fri_Pnumber = Fri_Pnumber.groupby(['사용요일','사용주'])['승하차총승객수'].sum()\n",
    "Fri_Pnumber = pd.DataFrame(Fri_Pnumber, columns=['승하차총승객수'])\n",
    "\n",
    "\n",
    "Fri_Pnumber"
   ]
  },
  {
   "cell_type": "code",
   "execution_count": null,
   "metadata": {},
   "outputs": [],
   "source": [
    "# 매주 토요일 data 추출\n",
    "Sat_Pnumber = raw[['사용요일','사용주','승하차총승객수']]\n",
    "Sat_Pnumber = Sat_Pnumber[Sat_Pnumber['사용요일'] == '토']\n",
    "Sat_Pnumber = Sat_Pnumber.groupby(['사용요일','사용주'])['승하차총승객수'].sum()\n",
    "Sat_Pnumber = pd.DataFrame(Sat_Pnumber, columns=['승하차총승객수'])\n",
    "\n",
    "\n",
    "Sat_Pnumber"
   ]
  },
  {
   "cell_type": "code",
   "execution_count": null,
   "metadata": {},
   "outputs": [],
   "source": [
    "# 매주 일요일 data 추출\n",
    "Sun_Pnumber = raw[['사용요일','사용주','승하차총승객수']]\n",
    "Sun_Pnumber = Sun_Pnumber[Sun_Pnumber['사용요일'] == '일']\n",
    "Sun_Pnumber = Sun_Pnumber.groupby(['사용요일','사용주'])['승하차총승객수'].sum()\n",
    "Sun_Pnumber = pd.DataFrame(Sun_Pnumber, columns=['승하차총승객수'])\n",
    "\n",
    "Sun_Pnumber"
   ]
  },
  {
   "cell_type": "code",
   "execution_count": null,
   "metadata": {},
   "outputs": [],
   "source": [
    "# 데이터 개수가 30개가 넘지 않아, 정규성 검정 진행\n",
    "from scipy.stats import shapiro\n",
    "\n",
    "\n",
    "shapiro_test_0 = shapiro(Mon_Pnumber['승하차총승객수'])\n",
    "shapiro_test_1 = shapiro(Tue_Pnumber['승하차총승객수'])\n",
    "shapiro_test_2 = shapiro(Wed_Pnumber['승하차총승객수'])\n",
    "shapiro_test_3 = shapiro(Thur_Pnumber['승하차총승객수'])\n",
    "shapiro_test_4 = shapiro(Fri_Pnumber['승하차총승객수'])\n",
    "shapiro_test_5 = shapiro(Sat_Pnumber['승하차총승객수'])\n",
    "shapiro_test_6 = shapiro(Sun_Pnumber['승하차총승객수'])\n",
    "\n",
    "print(shapiro_test_0) \n",
    "print(shapiro_test_1)\n",
    "print(shapiro_test_2)\n",
    "print(shapiro_test_3)\n",
    "print(shapiro_test_4)\n",
    "print(shapiro_test_5)\n",
    "print(shapiro_test_6)"
   ]
  },
  {
   "cell_type": "code",
   "execution_count": null,
   "metadata": {},
   "outputs": [],
   "source": [
    "# 데이터 개수가 30개가 넘지 않아, 정규성 검정 진행\n",
    "from scipy.stats import shapiro\n",
    "\n",
    "\n",
    "shapiro_test_0 = shapiro(Mon_Pnumber['승하차총승객수'])\n",
    "shapiro_test_1 = shapiro(Tue_Pnumber['승하차총승객수'])\n",
    "shapiro_test_2 = shapiro(Wed_Pnumber['승하차총승객수'])\n",
    "shapiro_test_3 = shapiro(Thur_Pnumber['승하차총승객수'])\n",
    "shapiro_test_4 = shapiro(Fri_Pnumber['승하차총승객수'])\n",
    "shapiro_test_5 = shapiro(Sat_Pnumber['승하차총승객수'])\n",
    "shapiro_test_6 = shapiro(Sun_Pnumber['승하차총승객수'])\n",
    "\n",
    "print(shapiro_test_0) \n",
    "print(shapiro_test_1)\n",
    "print(shapiro_test_2)\n",
    "print(shapiro_test_3)\n",
    "print(shapiro_test_4)\n",
    "print(shapiro_test_5)\n",
    "print(shapiro_test_6)\n",
    "\n",
    "# p-value_0 = 0.00000003\n",
    "# p-value_1 = 0.00000003\n",
    "# p-value_2 = 0.0000001\n",
    "# p-value_3 = 0.0000004\n",
    "# p-value_4 = 0.00002\n",
    "# p-value_5 = 0.04\n",
    "# p-value_6 = 0.01"
   ]
  },
  {
   "cell_type": "code",
   "execution_count": null,
   "metadata": {},
   "outputs": [],
   "source": [
    "Thur_Pnumber['승하차총승객수'].plot.hist()"
   ]
  },
  {
   "cell_type": "code",
   "execution_count": null,
   "metadata": {},
   "outputs": [],
   "source": [
    "import seaborn as sns\n",
    "import matplotlib.pyplot as plt\n",
    "\n",
    "sns.distplot(Mon_Pnumber['승하차총승객수'])\n",
    "plt.show()\n",
    "sns.distplot(Tue_Pnumber['승하차총승객수'])\n",
    "plt.show()\n",
    "sns.distplot(Wed_Pnumber['승하차총승객수'])\n",
    "plt.show()\n",
    "sns.distplot(Thur_Pnumber['승하차총승객수'])\n",
    "plt.show()\n",
    "sns.distplot(Fri_Pnumber['승하차총승객수'])\n",
    "plt.show()\n",
    "sns.distplot(Sat_Pnumber['승하차총승객수'])\n",
    "plt.show()\n",
    "sns.distplot(Sun_Pnumber['승하차총승객수'])\n",
    "plt.show()"
   ]
  },
  {
   "cell_type": "code",
   "execution_count": null,
   "metadata": {},
   "outputs": [],
   "source": [
    "# 모든 요일의 데이터의 p-value가 0.05보다 작아 비모수 검정 \n",
    "from scipy.stats import kruskal\n",
    "kruskal(Mon_Pnumber['승하차총승객수'],Tue_Pnumber['승하차총승객수'],Wed_Pnumber['승하차총승객수'],Thur_Pnumber['승하차총승객수'],\\\n",
    "    Fri_Pnumber['승하차총승객수'],Sat_Pnumber['승하차총승객수'],Sun_Pnumber['승하차총승객수'])\n",
    "\n",
    "# p-value = 0.0\n",
    "# p-value < 0.05이기 때문에 요일별 승객수 차이가 있다고 볼 수 있음."
   ]
  },
  {
   "cell_type": "code",
   "execution_count": null,
   "metadata": {},
   "outputs": [],
   "source": [
    "# 모든 요일의 데이터의 p-value가 0.05보다 작아 비모수 검정 \n",
    "from scipy.stats import kruskal\n",
    "kruskal(Mon_Pnumber,Tue_Pnumber,Wed_Pnumber,Thur_Pnumber,\\\n",
    "    Fri_Pnumber,Sat_Pnumber,Sun_Pnumber)\n",
    "\n",
    "# p-value = 0.0\n",
    "# p-value < 0.05이기 때문에 요일별 승객수 차이가 있다고 볼 수 있음.\n"
   ]
  },
  {
   "cell_type": "code",
   "execution_count": null,
   "metadata": {},
   "outputs": [],
   "source": [
    "Pnum = pd.concat([Mon_Pnumber, Tue_Pnumber, Wed_Pnumber, Thur_Pnumber, Fri_Pnumber, Sat_Pnumber, Sun_Pnumber])\n",
    "\n",
    "Pnum"
   ]
  },
  {
   "cell_type": "code",
   "execution_count": null,
   "metadata": {},
   "outputs": [],
   "source": [
    "Pnum = Pnum.reset_index()\n",
    "Pnum"
   ]
  },
  {
   "cell_type": "code",
   "execution_count": null,
   "metadata": {},
   "outputs": [],
   "source": [
    "from statsmodels.sandbox.stats.multicomp import MultiComparison\n",
    "import scipy.stats\n",
    "\n",
    "comp = MultiComparison(Pnum['승하차총승객수'],Pnum['사용요일'])\n",
    "\n",
    "# Bonferroni 방법을 통해 모든 그룹간 ttest를 진행\n",
    "result = comp.allpairtest(scipy.stats.ttest_ind, method='bonf')\n",
    "result[0]"
   ]
  },
  {
   "cell_type": "code",
   "execution_count": null,
   "metadata": {},
   "outputs": [],
   "source": [
    "# 매 주마다 요일 데이터 추출\n",
    "day_Pnumber = raw[['사용요일','사용주','승하차총승객수']]\n",
    "day_Pnumber = day_Pnumber.groupby(['사용요일'])['사용주','승하차총승객수'].sum()\n",
    "day_Pnumber = pd.DataFrame(day_Pnumber, columns=['승하차총승객수'])\n",
    "day_Pnumber = day_Pnumber.reindex(['월','화','수','목','금','토','일'])\n",
    "day_Pnumber\n",
    "\n"
   ]
  },
  {
   "cell_type": "code",
   "execution_count": null,
   "metadata": {},
   "outputs": [],
   "source": [
    "# 요일별 승객 수 시각화\n",
    "import numpy as np\n",
    "\n",
    "from matplotlib import font_manager, rc\n",
    "font_path = \"C:/Windows/Fonts/NGULIM.TTF\"\n",
    "font = font_manager.FontProperties(fname=font_path).get_name()\n",
    "rc('font', family=font)\n",
    "\n",
    "x = np.arange(7)\n",
    "day = day_Pnumber.index\n",
    "values = day_Pnumber['승하차총승객수']\n",
    "\n",
    "plt.bar(x, values)\n",
    "plt.xticks(x, day)\n",
    "\n",
    "plt.show()\n"
   ]
  },
  {
   "attachments": {},
   "cell_type": "markdown",
   "metadata": {},
   "source": [
    "## Q.연월 각각에 대해 일자별 승하차총승객수 시각화"
   ]
  },
  {
   "cell_type": "code",
   "execution_count": null,
   "metadata": {},
   "outputs": [],
   "source": [
    "# 일자별 승하차총승객수 연월 각가에 대해 시각화\n",
    "for i in raw['사용연월'].unique():\n",
    "    print(i)\n",
    "    raw[raw['사용연월']==i].groupby('사용일')['승하차총승객수'].sum().plot(marker='o')\n",
    "    plt.show()"
   ]
  }
 ],
 "metadata": {
  "kernelspec": {
   "display_name": "Python 3.8.5 ('DC')",
   "language": "python",
   "name": "python3"
  },
  "language_info": {
   "codemirror_mode": {
    "name": "ipython",
    "version": 3
   },
   "file_extension": ".py",
   "mimetype": "text/x-python",
   "name": "python",
   "nbconvert_exporter": "python",
   "pygments_lexer": "ipython3",
   "version": "3.8.5"
  },
  "orig_nbformat": 4,
  "vscode": {
   "interpreter": {
    "hash": "e67a4df5124244dcf959320ed0bab2c7c638a5a67f4e3076d8f988fe328c870c"
   }
  }
 },
 "nbformat": 4,
 "nbformat_minor": 2
}
