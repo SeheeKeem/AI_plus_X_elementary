{
 "cells": [
  {
   "cell_type": "code",
   "execution_count": 1,
   "metadata": {},
   "outputs": [],
   "source": [
    "import pandas as pd\n",
    "\n",
    "pd.set_option(\"display.max_columns\", 150)\n",
    "df2017 = pd.read_csv('./data/test2017.csv')\n",
    "df2018 = pd.read_csv('./data/test2018.csv')\n",
    "df2019 = pd.read_csv('./data/test2019.csv')\n",
    "df2020 = pd.read_csv('./data/test2020.csv')\n",
    "df2021 = pd.read_csv('./data/test2021.csv')"
   ]
  },
  {
   "cell_type": "code",
   "execution_count": 2,
   "metadata": {},
   "outputs": [],
   "source": [
    "df_ls = [df2017, df2018, df2019, df2020, df2021]"
   ]
  },
  {
   "cell_type": "code",
   "execution_count": 3,
   "metadata": {},
   "outputs": [],
   "source": [
    "df = df2017.rename(columns={'기준일ID':'ds','총생활인구수':'y'})\n",
    "df = pd.concat([df, df2018.rename(columns={'기준일ID':'ds','총생활인구수':'y'})])\n",
    "df = pd.concat([df, df2019.rename(columns={'기준일ID':'ds','총생활인구수':'y'})])\n",
    "df = pd.concat([df, df2020.rename(columns={'기준일ID':'ds','총생활인구수':'y'})])\n",
    "df = pd.concat([df, df2021.rename(columns={'기준일ID':'ds','총생활인구수':'y'})])"
   ]
  },
  {
   "cell_type": "code",
   "execution_count": 4,
   "metadata": {},
   "outputs": [],
   "source": [
    "import datetime as dt\n",
    "\n",
    "df['ds'] = pd.to_datetime((df['ds'].astype(str)+[' ']+df['시간대구분'].astype(str)+[':00:00']), format=\"%Y%m%d %H:%M:%S\")\n",
    "df.drop(['시간대구분','Unnamed: 0'],axis=1,inplace=True)"
   ]
  },
  {
   "cell_type": "code",
   "execution_count": 5,
   "metadata": {},
   "outputs": [
    {
     "data": {
      "text/plain": [
       "True     34666\n",
       "False       86\n",
       "Name: y, dtype: int64"
      ]
     },
     "execution_count": 5,
     "metadata": {},
     "output_type": "execute_result"
    }
   ],
   "source": [
    "Q1 = df['y'].quantile(q=0.25)\n",
    "Q3 = df['y'].quantile(q=0.75)\n",
    "IQR = Q3-Q1\n",
    "\n",
    "((df['y'] <= Q3+1.5*IQR) & (df['y'] >= Q1-1.5*IQR)).value_counts()"
   ]
  },
  {
   "cell_type": "code",
   "execution_count": 206,
   "metadata": {},
   "outputs": [],
   "source": [
    "# for i in df[((df['y'] <= Q3+1.5*IQR) & (df['y'] >= Q1-1.5*IQR))==False].index:\n",
    "#     df.iloc[i,df.columns.get_loc('y')]=(df.iloc[i-10:i+10]['y'].mean())/10"
   ]
  },
  {
   "cell_type": "code",
   "execution_count": 207,
   "metadata": {},
   "outputs": [],
   "source": [
    "# ((df['y'] <= Q3+1.5*IQR) & (df['y'] >= Q1-1.5*IQR)).value_counts()"
   ]
  },
  {
   "cell_type": "code",
   "execution_count": 208,
   "metadata": {},
   "outputs": [],
   "source": [
    "# for i in df[df['y'] <= Q3+1.5*IQR].index:\n",
    "#     df.iloc[i,df.columns.get_loc('y')]=Q3+1.5*IQR\n",
    "\n",
    "# for i in df[df['y'] >= Q1+1.5*IQR].index:\n",
    "#     df.iloc[i,df.columns.get_loc('y')]=Q1+1.5*IQR"
   ]
  },
  {
   "cell_type": "code",
   "execution_count": 5,
   "metadata": {},
   "outputs": [],
   "source": [
    "import holidays\n",
    "kr_holidays = holidays.KR()\n",
    "df['holiday'] = df['ds'].apply(lambda x: 'holiday' if x in kr_holidays else 'non-holiday')"
   ]
  },
  {
   "cell_type": "code",
   "execution_count": 6,
   "metadata": {},
   "outputs": [],
   "source": [
    "param_grid = {  'growth': [\"linear\"], \n",
    "                'changepoints': [None], \n",
    "                'n_changepoints': [25, 50, 75], \n",
    "                'changepoint_range': [0.25, 0.5, 0.75],\n",
    "                'yearly_seasonality': [\"auto\"],\n",
    "                'weekly_seasonality': [\"auto\"],\n",
    "                'daily_seasonality': [False],\n",
    "                'holidays': [holidays],\n",
    "                'seasonality_mode': [\"additive\"],\n",
    "                'seasonality_prior_scale': [10, 50, 100],\n",
    "                'holidays_prior_scale': [10, 50, 100],\n",
    "                'changepoint_prior_scale': [0.1, 0.33, 0.66],\n",
    "                'mcmc_samples': [0],\n",
    "                'interval_width': [0.25, 0.5, 0.75],\n",
    "                'uncertainty_samples': [0]\n",
    "              }"
   ]
  },
  {
   "cell_type": "code",
   "execution_count": 16,
   "metadata": {},
   "outputs": [
    {
     "name": "stderr",
     "output_type": "stream",
     "text": [
      "19:47:04 - cmdstanpy - INFO - Chain [1] start processing\n",
      "19:49:01 - cmdstanpy - INFO - Chain [1] done processing\n"
     ]
    }
   ],
   "source": [
    "from prophet import Prophet\n",
    "\n",
    "m = Prophet(weekly_seasonality=True, daily_seasonality = True, yearly_seasonality = True, interval_width=0.8).fit(df)"
   ]
  },
  {
   "cell_type": "code",
   "execution_count": 17,
   "metadata": {},
   "outputs": [],
   "source": [
    "future = m.make_future_dataframe(periods=1416, freq='H')\n",
    "fcst = m.predict(future)\n",
    "# fig = m.plot(fcst)"
   ]
  },
  {
   "cell_type": "code",
   "execution_count": 18,
   "metadata": {},
   "outputs": [
    {
     "data": {
      "text/plain": [
       "43512    38762.262396\n",
       "43513    39161.069968\n",
       "43514    39032.288785\n",
       "43515    38912.231682\n",
       "43516    39130.583204\n",
       "             ...     \n",
       "44923    34755.839679\n",
       "44924    35137.192525\n",
       "44925    35995.650113\n",
       "44926    37413.476136\n",
       "44927    38998.890096\n",
       "Name: yhat, Length: 1416, dtype: float64"
      ]
     },
     "execution_count": 18,
     "metadata": {},
     "output_type": "execute_result"
    }
   ],
   "source": [
    "fcst.iloc[-1416:]['yhat']"
   ]
  },
  {
   "cell_type": "code",
   "execution_count": 37,
   "metadata": {},
   "outputs": [],
   "source": [
    "submission = pd.read_csv('./data/sample_submission.csv')"
   ]
  },
  {
   "cell_type": "code",
   "execution_count": 35,
   "metadata": {},
   "outputs": [
    {
     "data": {
      "text/html": [
       "<div>\n",
       "<style scoped>\n",
       "    .dataframe tbody tr th:only-of-type {\n",
       "        vertical-align: middle;\n",
       "    }\n",
       "\n",
       "    .dataframe tbody tr th {\n",
       "        vertical-align: top;\n",
       "    }\n",
       "\n",
       "    .dataframe thead th {\n",
       "        text-align: right;\n",
       "    }\n",
       "</style>\n",
       "<table border=\"1\" class=\"dataframe\">\n",
       "  <thead>\n",
       "    <tr style=\"text-align: right;\">\n",
       "      <th></th>\n",
       "      <th>yhat</th>\n",
       "    </tr>\n",
       "  </thead>\n",
       "  <tbody>\n",
       "    <tr>\n",
       "      <th>0</th>\n",
       "      <td>38762.262396</td>\n",
       "    </tr>\n",
       "    <tr>\n",
       "      <th>1</th>\n",
       "      <td>39161.069968</td>\n",
       "    </tr>\n",
       "    <tr>\n",
       "      <th>2</th>\n",
       "      <td>39032.288785</td>\n",
       "    </tr>\n",
       "    <tr>\n",
       "      <th>3</th>\n",
       "      <td>38912.231682</td>\n",
       "    </tr>\n",
       "    <tr>\n",
       "      <th>4</th>\n",
       "      <td>39130.583204</td>\n",
       "    </tr>\n",
       "    <tr>\n",
       "      <th>...</th>\n",
       "      <td>...</td>\n",
       "    </tr>\n",
       "    <tr>\n",
       "      <th>1411</th>\n",
       "      <td>34755.839679</td>\n",
       "    </tr>\n",
       "    <tr>\n",
       "      <th>1412</th>\n",
       "      <td>35137.192525</td>\n",
       "    </tr>\n",
       "    <tr>\n",
       "      <th>1413</th>\n",
       "      <td>35995.650113</td>\n",
       "    </tr>\n",
       "    <tr>\n",
       "      <th>1414</th>\n",
       "      <td>37413.476136</td>\n",
       "    </tr>\n",
       "    <tr>\n",
       "      <th>1415</th>\n",
       "      <td>38998.890096</td>\n",
       "    </tr>\n",
       "  </tbody>\n",
       "</table>\n",
       "<p>1416 rows × 1 columns</p>\n",
       "</div>"
      ],
      "text/plain": [
       "              yhat\n",
       "0     38762.262396\n",
       "1     39161.069968\n",
       "2     39032.288785\n",
       "3     38912.231682\n",
       "4     39130.583204\n",
       "...            ...\n",
       "1411  34755.839679\n",
       "1412  35137.192525\n",
       "1413  35995.650113\n",
       "1414  37413.476136\n",
       "1415  38998.890096\n",
       "\n",
       "[1416 rows x 1 columns]"
      ]
     },
     "execution_count": 35,
     "metadata": {},
     "output_type": "execute_result"
    }
   ],
   "source": [
    "count = fcst.iloc[-1416:]['yhat']\n",
    "count = pd.DataFrame(count)\n",
    "count = count.reset_index(drop=True)\n",
    "count"
   ]
  },
  {
   "cell_type": "code",
   "execution_count": 38,
   "metadata": {},
   "outputs": [],
   "source": [
    "submission['count'] = count['yhat']"
   ]
  },
  {
   "cell_type": "code",
   "execution_count": 40,
   "metadata": {},
   "outputs": [
    {
     "data": {
      "text/html": [
       "<div>\n",
       "<style scoped>\n",
       "    .dataframe tbody tr th:only-of-type {\n",
       "        vertical-align: middle;\n",
       "    }\n",
       "\n",
       "    .dataframe tbody tr th {\n",
       "        vertical-align: top;\n",
       "    }\n",
       "\n",
       "    .dataframe thead th {\n",
       "        text-align: right;\n",
       "    }\n",
       "</style>\n",
       "<table border=\"1\" class=\"dataframe\">\n",
       "  <thead>\n",
       "    <tr style=\"text-align: right;\">\n",
       "      <th></th>\n",
       "      <th>id</th>\n",
       "      <th>count</th>\n",
       "    </tr>\n",
       "  </thead>\n",
       "  <tbody>\n",
       "    <tr>\n",
       "      <th>0</th>\n",
       "      <td>0</td>\n",
       "      <td>38762.262396</td>\n",
       "    </tr>\n",
       "    <tr>\n",
       "      <th>1</th>\n",
       "      <td>1</td>\n",
       "      <td>39161.069968</td>\n",
       "    </tr>\n",
       "    <tr>\n",
       "      <th>2</th>\n",
       "      <td>2</td>\n",
       "      <td>39032.288785</td>\n",
       "    </tr>\n",
       "    <tr>\n",
       "      <th>3</th>\n",
       "      <td>3</td>\n",
       "      <td>38912.231682</td>\n",
       "    </tr>\n",
       "    <tr>\n",
       "      <th>4</th>\n",
       "      <td>4</td>\n",
       "      <td>39130.583204</td>\n",
       "    </tr>\n",
       "    <tr>\n",
       "      <th>...</th>\n",
       "      <td>...</td>\n",
       "      <td>...</td>\n",
       "    </tr>\n",
       "    <tr>\n",
       "      <th>1411</th>\n",
       "      <td>1411</td>\n",
       "      <td>34755.839679</td>\n",
       "    </tr>\n",
       "    <tr>\n",
       "      <th>1412</th>\n",
       "      <td>1412</td>\n",
       "      <td>35137.192525</td>\n",
       "    </tr>\n",
       "    <tr>\n",
       "      <th>1413</th>\n",
       "      <td>1413</td>\n",
       "      <td>35995.650113</td>\n",
       "    </tr>\n",
       "    <tr>\n",
       "      <th>1414</th>\n",
       "      <td>1414</td>\n",
       "      <td>37413.476136</td>\n",
       "    </tr>\n",
       "    <tr>\n",
       "      <th>1415</th>\n",
       "      <td>1415</td>\n",
       "      <td>38998.890096</td>\n",
       "    </tr>\n",
       "  </tbody>\n",
       "</table>\n",
       "<p>1416 rows × 2 columns</p>\n",
       "</div>"
      ],
      "text/plain": [
       "        id         count\n",
       "0        0  38762.262396\n",
       "1        1  39161.069968\n",
       "2        2  39032.288785\n",
       "3        3  38912.231682\n",
       "4        4  39130.583204\n",
       "...    ...           ...\n",
       "1411  1411  34755.839679\n",
       "1412  1412  35137.192525\n",
       "1413  1413  35995.650113\n",
       "1414  1414  37413.476136\n",
       "1415  1415  38998.890096\n",
       "\n",
       "[1416 rows x 2 columns]"
      ]
     },
     "execution_count": 40,
     "metadata": {},
     "output_type": "execute_result"
    }
   ],
   "source": [
    "submission "
   ]
  },
  {
   "cell_type": "code",
   "execution_count": 41,
   "metadata": {},
   "outputs": [],
   "source": [
    "submission.to_csv(\"submission_1.csv\", index = False)"
   ]
  },
  {
   "cell_type": "code",
   "execution_count": 10,
   "metadata": {},
   "outputs": [],
   "source": [
    "df2021.drop(['Unnamed: 0','시간대구분'],axis=1,inplace=True)"
   ]
  },
  {
   "cell_type": "code",
   "execution_count": 11,
   "metadata": {},
   "outputs": [
    {
     "data": {
      "text/plain": [
       "1763.1911283388877"
      ]
     },
     "execution_count": 11,
     "metadata": {},
     "output_type": "execute_result"
    }
   ],
   "source": [
    "import numpy as np\n",
    "from sklearn.metrics import mean_squared_error\n",
    "\n",
    "a = df2021.iloc[:1416]['총생활인구수'].to_list()\n",
    "b = fcst.iloc[-1416:]['yhat'].to_list()\n",
    "\n",
    "mean_squared_error(b, a)**0.5"
   ]
  }
 ],
 "metadata": {
  "kernelspec": {
   "display_name": "Python 3.8.5 ('DC')",
   "language": "python",
   "name": "python3"
  },
  "language_info": {
   "codemirror_mode": {
    "name": "ipython",
    "version": 3
   },
   "file_extension": ".py",
   "mimetype": "text/x-python",
   "name": "python",
   "nbconvert_exporter": "python",
   "pygments_lexer": "ipython3",
   "version": "3.8.5 (default, Sep  3 2020, 21:29:08) [MSC v.1916 64 bit (AMD64)]"
  },
  "orig_nbformat": 4,
  "vscode": {
   "interpreter": {
    "hash": "e67a4df5124244dcf959320ed0bab2c7c638a5a67f4e3076d8f988fe328c870c"
   }
  }
 },
 "nbformat": 4,
 "nbformat_minor": 2
}
