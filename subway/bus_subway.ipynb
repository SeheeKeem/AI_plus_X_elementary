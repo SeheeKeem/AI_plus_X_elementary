{
 "cells": [
  {
   "attachments": {},
   "cell_type": "markdown",
   "metadata": {},
   "source": [
    "# \"지하철 이용승객 분석\" EDA 프로젝트\n"
   ]
  },
  {
   "cell_type": "code",
   "execution_count": 1,
   "metadata": {},
   "outputs": [],
   "source": [
    "# 필요한 라이브러리를 불러오기\n",
    "\n",
    "import pandas as pd\n",
    "import numpy as np\n",
    "import matplotlib.pyplot as plt"
   ]
  },
  {
   "cell_type": "code",
   "execution_count": null,
   "metadata": {},
   "outputs": [],
   "source": [
    "# 작업할 여러개의 파일 중 하나의 파일 불러오기\n",
    "\n",
    "file = r'.\\data\\rawfiles\\CARD_SUBWAY_MONTH_201901.csv' #r은 raw 그대로 특수문자도 그대로 다 읽어오기\n",
    "\n",
    "pd.read_csv(file)"
   ]
  },
  {
   "cell_type": "code",
   "execution_count": null,
   "metadata": {},
   "outputs": [],
   "source": [
    "raw = pd.read_csv(file)\n",
    "raw.head()"
   ]
  },
  {
   "cell_type": "code",
   "execution_count": null,
   "metadata": {},
   "outputs": [],
   "source": [
    "# info() 이용해 데이터 구조를 살펴보기\n",
    "\n",
    "raw.info()"
   ]
  },
  {
   "cell_type": "code",
   "execution_count": null,
   "metadata": {},
   "outputs": [],
   "source": [
    "# 이번에 여러 파일을 불러오기\n",
    "# 2개 파일 불러와서 합치기\n",
    "\n",
    "raw = pd.DataFrame()\n",
    "raw.head()\n",
    "\n",
    "file1 = r'.\\data\\rawfiles\\CARD_SUBWAY_MONTH_201901.csv'\n",
    "file2 = r'.\\data\\rawfiles\\CARD_SUBWAY_MONTH_201902.csv'\n",
    "\n",
    "temp1 = pd.read_csv(file1)\n",
    "temp2 = pd.read_csv(file2)\n",
    "\n",
    "# pandas concat 합치때, 인덱스 번호 그래로 간다. 옵션 ignore_index=True 사용하면 인덱스 새로 생성\n",
    "raw = pd.concat([temp1, temp2], axis=0) # 0 : 행방향 , 1 : 열방향, default : 0\n",
    "\n",
    "raw"
   ]
  },
  {
   "cell_type": "code",
   "execution_count": 6,
   "metadata": {},
   "outputs": [],
   "source": [
    "# 폴더/파일을 관리하는 os 라이브러리를 불러오기\n",
    "\n",
    "import os"
   ]
  },
  {
   "cell_type": "code",
   "execution_count": null,
   "metadata": {},
   "outputs": [],
   "source": [
    "# os.listdir()을 이용해 폴더에 있는 파일 리스트를 살펴보기\n",
    "\n",
    "os.listdir()\n"
   ]
  },
  {
   "cell_type": "code",
   "execution_count": null,
   "metadata": {},
   "outputs": [],
   "source": [
    "dirpath = './data/rawfiles'\n",
    "os.listdir(dirpath)"
   ]
  },
  {
   "cell_type": "code",
   "execution_count": null,
   "metadata": {},
   "outputs": [],
   "source": [
    "dirpath = './data/rawfiles/'\n",
    "s_files = os.listdir(dirpath)\n",
    "s_files = s_files[6:12]\n",
    "s_files"
   ]
  },
  {
   "cell_type": "code",
   "execution_count": null,
   "metadata": {},
   "outputs": [],
   "source": [
    "dirpath = './data/rawfiles/'\n",
    "b_files = os.listdir(dirpath)\n",
    "b_files = b_files[0:6]\n",
    "b_files"
   ]
  },
  {
   "cell_type": "code",
   "execution_count": null,
   "metadata": {},
   "outputs": [],
   "source": [
    "# 여러개 파일 병합\n",
    "\n",
    "# 빈 데이터프레임을 준비\n",
    "s_raw = pd.DataFrame()\n",
    "\n",
    "# 반복문 -> csv 파일 읽기 -> 데이터프레임에 추가하기\n",
    "for s_file in s_files:\n",
    "    #print(dirpath + file)\n",
    "    temp = pd.read_csv(dirpath + s_file)\n",
    "    s_raw = pd.concat([s_raw, temp], axis=0)\n",
    "\n",
    "s_raw.tail()"
   ]
  },
  {
   "cell_type": "code",
   "execution_count": null,
   "metadata": {},
   "outputs": [],
   "source": [
    "# 여러개 파일 병합\n",
    "\n",
    "# 빈 데이터프레임을 준비\n",
    "b_raw = pd.DataFrame()\n",
    "\n",
    "# 반복문 -> csv 파일 읽기 -> 데이터프레임에 추가하기\n",
    "for b_file in b_files:\n",
    "    #print(dirpath + file)\n",
    "    temp = pd.read_csv(dirpath + b_file, encoding='cp949')\n",
    "    b_raw = pd.concat([b_raw, temp], axis=0)\n",
    "\n",
    "b_raw.tail()"
   ]
  },
  {
   "cell_type": "code",
   "execution_count": null,
   "metadata": {},
   "outputs": [],
   "source": [
    "# 사용일자 칼럼 타입 확인 : int64\n",
    "\n",
    "s_raw.info()"
   ]
  },
  {
   "cell_type": "code",
   "execution_count": 14,
   "metadata": {},
   "outputs": [],
   "source": [
    "s_raw = s_raw.reset_index(drop=True)"
   ]
  },
  {
   "cell_type": "code",
   "execution_count": null,
   "metadata": {},
   "outputs": [],
   "source": [
    "s_raw.tail(7)"
   ]
  },
  {
   "cell_type": "code",
   "execution_count": null,
   "metadata": {},
   "outputs": [],
   "source": [
    "b_raw.info()"
   ]
  },
  {
   "cell_type": "code",
   "execution_count": null,
   "metadata": {},
   "outputs": [],
   "source": [
    "# **** '사용일자' 타입 int64 --> DateTime 타입으로 변경 : pandas.to_datetime 사용 ****\n",
    "\n",
    "s_raw['사용일자'] = pd.to_datetime(s_raw['사용일자'], format='%Y%m%d')\n",
    "s_raw.info()"
   ]
  },
  {
   "cell_type": "code",
   "execution_count": null,
   "metadata": {},
   "outputs": [],
   "source": [
    "b_raw['사용일자'] = pd.to_datetime(b_raw['사용일자'], format='%Y%m%d')\n",
    "b_raw.info()"
   ]
  },
  {
   "cell_type": "code",
   "execution_count": null,
   "metadata": {},
   "outputs": [],
   "source": [
    "# 연월, 월일 칼럼 추가하기\n",
    "s_raw['사용연월'] = s_raw['사용일자'].dt.strftime('%Y-%m')\n",
    "s_raw['사용일'] = s_raw['사용일자'].dt.strftime('%d')\n",
    "s_raw['사용월'] = s_raw['사용일자'].dt.strftime('%m')\n",
    "\n",
    "s_raw"
   ]
  },
  {
   "cell_type": "code",
   "execution_count": null,
   "metadata": {},
   "outputs": [],
   "source": [
    "s_raw['사용주'] = s_raw['사용일자'].dt.weekofyear\n",
    "s_raw"
   ]
  },
  {
   "cell_type": "code",
   "execution_count": null,
   "metadata": {},
   "outputs": [],
   "source": [
    "# 연월, 월일 칼럼 추가하기\n",
    "b_raw['사용월'] = b_raw['사용일자'].dt.strftime('%m')\n",
    "b_raw['사용일'] = b_raw['사용일자'].dt.strftime('%d')\n",
    "b_raw"
   ]
  },
  {
   "cell_type": "code",
   "execution_count": null,
   "metadata": {},
   "outputs": [],
   "source": [
    "# 사용일자에 대해서 요일로 변환\n",
    "s_raw['사용요일'] = s_raw['사용일자'].dt.dayofweek\n",
    "s_raw.head()"
   ]
  },
  {
   "cell_type": "code",
   "execution_count": 23,
   "metadata": {},
   "outputs": [],
   "source": [
    "# 요일 숫자 -> 한글로 변환\n",
    "conv = {\n",
    "    0 : '월',\n",
    "    1 : '화',\n",
    "    2 : '수',\n",
    "    3 : '목',\n",
    "    4 : '금',\n",
    "    5 : '토',\n",
    "    6 : '일'\n",
    "}\n",
    "\n",
    "s_raw['사용요일'] = s_raw['사용요일'].map(conv)"
   ]
  },
  {
   "cell_type": "code",
   "execution_count": null,
   "metadata": {},
   "outputs": [],
   "source": [
    "# 승하차총승객수 칼럼 추가하기\n",
    "s_raw['승하차총승객수'] = s_raw['승차총승객수'] + s_raw['하차총승객수']\n",
    "s_raw\n"
   ]
  },
  {
   "cell_type": "code",
   "execution_count": null,
   "metadata": {},
   "outputs": [],
   "source": [
    "b_raw = b_raw[['사용월','사용일','노선번호', '승차총승객수', '하차총승객수']]\n",
    "b_raw['승하차총승객수'] = b_raw['승차총승객수'] + b_raw['하차총승객수']\n",
    "\n",
    "b_raw"
   ]
  },
  {
   "attachments": {},
   "cell_type": "markdown",
   "metadata": {},
   "source": [
    "# Q. 버스 승객수도 지하철과 같은 패턴을 나타낼까??"
   ]
  },
  {
   "cell_type": "code",
   "execution_count": null,
   "metadata": {},
   "outputs": [],
   "source": [
    "b_Pnum_01 = b_raw[b_raw[\"사용월\"] == '01']\n",
    "b_Pnum_01 = b_Pnum_01.groupby(['사용월','사용일'])['승하차총승객수'].sum()\n",
    "b_Pnum_01 = pd.DataFrame(b_Pnum_01)\n",
    "b_Pnum_01 = b_Pnum_01.reset_index()\n",
    "\n",
    "b_Pnum_01\n"
   ]
  },
  {
   "cell_type": "code",
   "execution_count": null,
   "metadata": {},
   "outputs": [],
   "source": [
    "b_Pnum_02 = b_raw[b_raw[\"사용월\"] == '02']\n",
    "b_Pnum_02 = b_Pnum_02.groupby(['사용월','사용일'])['승하차총승객수'].sum()\n",
    "b_Pnum_02 = pd.DataFrame(b_Pnum_02)\n",
    "b_Pnum_02 = b_Pnum_02.reset_index()\n",
    "\n",
    "b_Pnum_02"
   ]
  },
  {
   "cell_type": "code",
   "execution_count": null,
   "metadata": {},
   "outputs": [],
   "source": [
    "b_Pnum_03 = b_raw[b_raw[\"사용월\"] == '03']\n",
    "b_Pnum_03 = b_Pnum_03.groupby(['사용월','사용일'])['승하차총승객수'].sum()\n",
    "b_Pnum_03 = pd.DataFrame(b_Pnum_03)\n",
    "b_Pnum_03 = b_Pnum_03.reset_index()\n",
    "\n",
    "b_Pnum_03"
   ]
  },
  {
   "cell_type": "code",
   "execution_count": null,
   "metadata": {},
   "outputs": [],
   "source": [
    "b_Pnum_04 = b_raw[b_raw[\"사용월\"] == '04']\n",
    "b_Pnum_04 = b_Pnum_04.groupby(['사용월','사용일'])['승하차총승객수'].sum()\n",
    "b_Pnum_04 = pd.DataFrame(b_Pnum_04)\n",
    "b_Pnum_04 = b_Pnum_04.reset_index()\n",
    "\n",
    "b_Pnum_04"
   ]
  },
  {
   "cell_type": "code",
   "execution_count": null,
   "metadata": {},
   "outputs": [],
   "source": [
    "b_Pnum_05 = b_raw[b_raw[\"사용월\"] == '05']\n",
    "b_Pnum_05 = b_Pnum_05.groupby(['사용월','사용일'])['승하차총승객수'].sum()\n",
    "b_Pnum_05 = pd.DataFrame(b_Pnum_05)\n",
    "b_Pnum_05 = b_Pnum_05.reset_index()\n",
    "\n",
    "b_Pnum_05"
   ]
  },
  {
   "cell_type": "code",
   "execution_count": null,
   "metadata": {},
   "outputs": [],
   "source": [
    "b_Pnum_06 = b_raw[b_raw[\"사용월\"] == '06']\n",
    "b_Pnum_06 = b_Pnum_06.groupby(['사용월','사용일'])['승하차총승객수'].sum()\n",
    "b_Pnum_06 = pd.DataFrame(b_Pnum_06)\n",
    "b_Pnum_06 = b_Pnum_06.reset_index()\n",
    "\n",
    "b_Pnum_06"
   ]
  },
  {
   "cell_type": "code",
   "execution_count": null,
   "metadata": {},
   "outputs": [],
   "source": [
    "b_Pnum = pd.concat([b_Pnum_01, b_Pnum_02, b_Pnum_03, b_Pnum_04, b_Pnum_05, b_Pnum_06])\n",
    "b_Pnum['사용월일'] = b_Pnum['사용월'] + b_Pnum['사용일']\n",
    "b_Pnum = b_Pnum[['사용월일', '승하차총승객수']]\n",
    "\n",
    "b_Pnum"
   ]
  },
  {
   "cell_type": "code",
   "execution_count": null,
   "metadata": {},
   "outputs": [],
   "source": [
    "s_Pnum_01 = s_raw[s_raw[\"사용월\"] == '01']\n",
    "s_Pnum_01 = s_Pnum_01.groupby(['사용월','사용일'])['승하차총승객수'].sum()\n",
    "s_Pnum_01 = pd.DataFrame(s_Pnum_01)\n",
    "s_Pnum_01 = s_Pnum_01.reset_index()\n",
    "\n",
    "s_Pnum_01"
   ]
  },
  {
   "cell_type": "code",
   "execution_count": null,
   "metadata": {},
   "outputs": [],
   "source": [
    "s_Pnum_02 = s_raw[s_raw[\"사용월\"] == '02']\n",
    "s_Pnum_02 = s_Pnum_02.groupby(['사용월','사용일'])['승하차총승객수'].sum()\n",
    "s_Pnum_02 = pd.DataFrame(s_Pnum_02)\n",
    "s_Pnum_02 = s_Pnum_02.reset_index()\n",
    "\n",
    "s_Pnum_02"
   ]
  },
  {
   "cell_type": "code",
   "execution_count": null,
   "metadata": {},
   "outputs": [],
   "source": [
    "s_Pnum_03 = s_raw[s_raw[\"사용월\"] == '03']\n",
    "s_Pnum_03 = s_Pnum_03.groupby(['사용월','사용일'])['승하차총승객수'].sum()\n",
    "s_Pnum_03 = pd.DataFrame(s_Pnum_03)\n",
    "s_Pnum_03 = s_Pnum_03.reset_index()\n",
    "\n",
    "s_Pnum_03"
   ]
  },
  {
   "cell_type": "code",
   "execution_count": null,
   "metadata": {},
   "outputs": [],
   "source": [
    "s_Pnum_04 = s_raw[s_raw[\"사용월\"] == '04']\n",
    "s_Pnum_04 = s_Pnum_04.groupby(['사용월','사용일'])['승하차총승객수'].sum()\n",
    "s_Pnum_04 = pd.DataFrame(s_Pnum_04)\n",
    "s_Pnum_04 = s_Pnum_04.reset_index()\n",
    "\n",
    "s_Pnum_04"
   ]
  },
  {
   "cell_type": "code",
   "execution_count": null,
   "metadata": {},
   "outputs": [],
   "source": [
    "s_Pnum_05 = s_raw[s_raw[\"사용월\"] == '05']\n",
    "s_Pnum_05 = s_Pnum_05.groupby(['사용월','사용일'])['승하차총승객수'].sum()\n",
    "s_Pnum_05 = pd.DataFrame(s_Pnum_05)\n",
    "s_Pnum_05 = s_Pnum_05.reset_index()\n",
    "\n",
    "s_Pnum_05"
   ]
  },
  {
   "cell_type": "code",
   "execution_count": null,
   "metadata": {},
   "outputs": [],
   "source": [
    "s_Pnum_06 = s_raw[s_raw[\"사용월\"] == '06']\n",
    "s_Pnum_06 = s_Pnum_06.groupby(['사용월','사용일'])['승하차총승객수'].sum()\n",
    "s_Pnum_06 = pd.DataFrame(s_Pnum_06)\n",
    "s_Pnum_06 = s_Pnum_06.reset_index()\n",
    "\n",
    "s_Pnum_06"
   ]
  },
  {
   "cell_type": "code",
   "execution_count": null,
   "metadata": {},
   "outputs": [],
   "source": [
    "s_Pnum = pd.concat([s_Pnum_01, s_Pnum_02, s_Pnum_03, s_Pnum_04, s_Pnum_05, s_Pnum_06])\n",
    "s_Pnum['사용월일'] = s_Pnum['사용월'] + s_Pnum['사용일']\n",
    "s_Pnum = s_Pnum[['사용월일', '승하차총승객수']]\n",
    "\n",
    "s_Pnum"
   ]
  },
  {
   "cell_type": "code",
   "execution_count": null,
   "metadata": {},
   "outputs": [],
   "source": [
    "# 2월은 n < 30 이기 때문에 정규성 검정 필요\n",
    "shapiro_b_Pnum_2 = shapiro(b_Pnum_02['승하차총승객수'])\n",
    "shapiro_b_Pnum_2\n",
    "\n",
    "# pvalue = 0.00006"
   ]
  },
  {
   "cell_type": "code",
   "execution_count": null,
   "metadata": {},
   "outputs": [],
   "source": [
    "# 2월의 승하차총승객수의 pvalue < 0.05 이기 때문에 비모수 검정 진행\n",
    "\n",
    "kruskal(b_Pnum_01['승하차총승객수'],b_Pnum_02['승하차총승객수'],b_Pnum_03['승하차총승객수'],b_Pnum_04['승하차총승객수'],\\\n",
    "    b_Pnum_05['승하차총승객수'],b_Pnum_06['승하차총승객수'])\n",
    "\n",
    "# pvalue = 0.00001"
   ]
  },
  {
   "cell_type": "code",
   "execution_count": null,
   "metadata": {},
   "outputs": [],
   "source": [
    "b_Pnum"
   ]
  },
  {
   "cell_type": "code",
   "execution_count": null,
   "metadata": {},
   "outputs": [],
   "source": [
    "# 비모수검정에서 p < 0.05이기 때문에 사후 분석 진행\n",
    "\n",
    "comp = MultiComparison(b_Pnum['승하차총승객수'],b_Pnum['사용월일'])\n",
    "\n",
    "# Bonferroni 방법을 통해 모든 그룹간 ttest를 진행\n",
    "result = comp.allpairtest(scipy.stats.ttest_ind, method='bonf')\n",
    "result[0]"
   ]
  },
  {
   "cell_type": "code",
   "execution_count": null,
   "metadata": {},
   "outputs": [],
   "source": [
    "import matplotlib.pyplot as plt\n",
    "\n",
    "fig = plt.figure(figsize=(8,8)) ## 캔버스 생성\n",
    "fig.set_facecolor('white') ## 캔버스 색상 설정\n",
    "ax = fig.add_subplot() ## 그림 뼈대(프레임) 생성\n",
    " \n",
    "ax.plot(s_Pnum_01['사용일'], s_Pnum_01['승하차총승객수'], marker='o',label='Subway') ## 선그래프 생성\n",
    "ax.plot(b_Pnum_01['사용일'], b_Pnum_01['승하차총승객수'], marker='o',label='Bus') \n",
    "\n",
    " \n",
    "ax.legend() ## 범례\n",
    " \n",
    "plt.title('January number of Paasengers',fontsize=20) ## 타이틀 설정\n",
    "plt.show()"
   ]
  },
  {
   "cell_type": "code",
   "execution_count": null,
   "metadata": {},
   "outputs": [],
   "source": [
    "fig = plt.figure(figsize=(8,8)) ## 캔버스 생성\n",
    "fig.set_facecolor('white') ## 캔버스 색상 설정\n",
    "ax = fig.add_subplot() ## 그림 뼈대(프레임) 생성\n",
    " \n",
    "ax.plot(s_Pnum_02['사용일'], s_Pnum_02['승하차총승객수'], marker='o',label='Subway') ## 선그래프 생성\n",
    "ax.plot(b_Pnum_02['사용일'], b_Pnum_02['승하차총승객수'], marker='o',label='Bus') \n",
    "\n",
    " \n",
    "ax.legend() ## 범례\n",
    " \n",
    "plt.title('February number of Paasengers',fontsize=20) ## 타이틀 설정\n",
    "plt.show()"
   ]
  },
  {
   "cell_type": "code",
   "execution_count": null,
   "metadata": {},
   "outputs": [],
   "source": [
    "fig = plt.figure(figsize=(8,8)) ## 캔버스 생성\n",
    "fig.set_facecolor('white') ## 캔버스 색상 설정\n",
    "ax = fig.add_subplot() ## 그림 뼈대(프레임) 생성\n",
    " \n",
    "ax.plot(s_Pnum_03['사용일'], s_Pnum_03['승하차총승객수'], marker='o',label='Subway') ## 선그래프 생성\n",
    "ax.plot(b_Pnum_03['사용일'], b_Pnum_03['승하차총승객수'], marker='o',label='Bus') \n",
    "\n",
    " \n",
    "ax.legend() ## 범례\n",
    " \n",
    "plt.title('March number of Paasengers',fontsize=20) ## 타이틀 설정\n",
    "plt.show()"
   ]
  },
  {
   "cell_type": "code",
   "execution_count": null,
   "metadata": {},
   "outputs": [],
   "source": [
    "fig = plt.figure(figsize=(8,8)) ## 캔버스 생성\n",
    "fig.set_facecolor('white') ## 캔버스 색상 설정\n",
    "ax = fig.add_subplot() ## 그림 뼈대(프레임) 생성\n",
    " \n",
    "ax.plot(s_Pnum_04['사용일'], s_Pnum_04['승하차총승객수'], marker='o',label='Subway') ## 선그래프 생성\n",
    "ax.plot(b_Pnum_04['사용일'], b_Pnum_04['승하차총승객수'], marker='o',label='Bus') \n",
    "\n",
    " \n",
    "ax.legend() ## 범례\n",
    " \n",
    "plt.title('April number of Paasengers',fontsize=20) ## 타이틀 설정\n",
    "plt.show()"
   ]
  },
  {
   "cell_type": "code",
   "execution_count": null,
   "metadata": {},
   "outputs": [],
   "source": [
    "fig = plt.figure(figsize=(8,8)) ## 캔버스 생성\n",
    "fig.set_facecolor('white') ## 캔버스 색상 설정\n",
    "ax = fig.add_subplot() ## 그림 뼈대(프레임) 생성\n",
    " \n",
    "ax.plot(s_Pnum_05['사용일'], s_Pnum_05['승하차총승객수'], marker='o',label='Subway') ## 선그래프 생성\n",
    "ax.plot(b_Pnum_05['사용일'], b_Pnum_05['승하차총승객수'], marker='o',label='Bus') \n",
    "\n",
    " \n",
    "ax.legend() ## 범례\n",
    " \n",
    "plt.title('May number of Paasengers',fontsize=20) ## 타이틀 설정\n",
    "plt.show()"
   ]
  },
  {
   "cell_type": "code",
   "execution_count": null,
   "metadata": {},
   "outputs": [],
   "source": [
    "fig = plt.figure(figsize=(8,8)) ## 캔버스 생성\n",
    "fig.set_facecolor('white') ## 캔버스 색상 설정\n",
    "ax = fig.add_subplot() ## 그림 뼈대(프레임) 생성\n",
    " \n",
    "ax.plot(s_Pnum_06['사용일'], s_Pnum_06['승하차총승객수'], marker='o',label='Subway') ## 선그래프 생성\n",
    "ax.plot(b_Pnum_06['사용일'], b_Pnum_06['승하차총승객수'], marker='o',label='Bus') \n",
    "\n",
    " \n",
    "ax.legend() ## 범례\n",
    " \n",
    "plt.title('June number of Paasengers',fontsize=20) ## 타이틀 설정\n",
    "plt.show()"
   ]
  },
  {
   "cell_type": "code",
   "execution_count": null,
   "metadata": {},
   "outputs": [],
   "source": [
    "total = pd.concat([s_Pnum,b_Pnum])\n",
    "total\n"
   ]
  },
  {
   "cell_type": "code",
   "execution_count": null,
   "metadata": {},
   "outputs": [],
   "source": [
    "# # 독립표본 검정 진행하기 전 등분산검정 먼저 진행\n",
    "# from scipy.stats import levene\n",
    "# levene(b_Pnum['승하차총승객수'], s_Pnum['승하차총승객수'])\n",
    "\n",
    "# # pvalue : 0.053으로 등분산으로 가정 \n",
    "# 정규성 분포 or 등분산검정 둘 중 하나만 하기  "
   ]
  },
  {
   "cell_type": "code",
   "execution_count": null,
   "metadata": {},
   "outputs": [],
   "source": [
    "\n",
    "from scipy import stats\n",
    "stats.ttest_ind(b_Pnum['승하차총승객수'], s_Pnum['승하차총승객수'], equal_var = True)\n",
    "\n"
   ]
  }
 ],
 "metadata": {
  "kernelspec": {
   "display_name": "Python 3.8.5 ('DC')",
   "language": "python",
   "name": "python3"
  },
  "language_info": {
   "codemirror_mode": {
    "name": "ipython",
    "version": 3
   },
   "file_extension": ".py",
   "mimetype": "text/x-python",
   "name": "python",
   "nbconvert_exporter": "python",
   "pygments_lexer": "ipython3",
   "version": "3.9.13"
  },
  "orig_nbformat": 4,
  "vscode": {
   "interpreter": {
    "hash": "e67a4df5124244dcf959320ed0bab2c7c638a5a67f4e3076d8f988fe328c870c"
   }
  }
 },
 "nbformat": 4,
 "nbformat_minor": 2
}
